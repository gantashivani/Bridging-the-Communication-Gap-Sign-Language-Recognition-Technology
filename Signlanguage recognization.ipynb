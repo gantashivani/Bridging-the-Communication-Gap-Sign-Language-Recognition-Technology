{
 "cells": [
  {
   "cell_type": "code",
   "execution_count": 1,
   "id": "7d5e6f4e-9499-4fe9-9a12-32f5920367d3",
   "metadata": {},
   "outputs": [],
   "source": [
    "import os\n",
    "import cv2\n",
    "import numpy as np\n",
    "from keras.applications.resnet50 import ResNet50\n",
    "from keras.layers import Dense, GlobalAveragePooling2D\n",
    "from keras.models import Model\n",
    "from keras.utils import to_categorical\n",
    "from tensorflow.keras import layers, models\n",
    "from tensorflow.keras.models import Sequential\n",
    "from sklearn.metrics import accuracy_score, confusion_matrix, precision_score\n",
    "from sklearn.preprocessing import LabelEncoder\n",
    "from sklearn.model_selection import train_test_split\n",
    "import tensorflow as tf\n",
    "import matplotlib.pyplot as plt\n",
    "from sklearn.preprocessing import LabelEncoder\n",
    "from tensorflow.keras.preprocessing.image import ImageDataGenerator"
   ]
  },
  {
   "cell_type": "code",
   "execution_count": 2,
   "id": "870ea24e-1439-43a8-8ef0-1b9463d130e6",
   "metadata": {},
   "outputs": [
    {
     "name": "stdout",
     "output_type": "stream",
     "text": [
      "Loading images from folder: C:\\Users\\ganta\\Documents\\SignLang\\Data\\A\n",
      "Loading images from folder: C:\\Users\\ganta\\Documents\\SignLang\\Data\\B\n",
      "Loading images from folder: C:\\Users\\ganta\\Documents\\SignLang\\Data\\C\n",
      "Loading images from folder: C:\\Users\\ganta\\Documents\\SignLang\\Data\\D\n",
      "Loading images from folder: C:\\Users\\ganta\\Documents\\SignLang\\Data\\E\n",
      "Loading images from folder: C:\\Users\\ganta\\Documents\\SignLang\\Data\\F\n",
      "Loading images from folder: C:\\Users\\ganta\\Documents\\SignLang\\Data\\G\n",
      "Loading images from folder: C:\\Users\\ganta\\Documents\\SignLang\\Data\\H\n",
      "Loading images from folder: C:\\Users\\ganta\\Documents\\SignLang\\Data\\I\n",
      "Loading images from folder: C:\\Users\\ganta\\Documents\\SignLang\\Data\\J\n",
      "Loading images from folder: C:\\Users\\ganta\\Documents\\SignLang\\Data\\K\n",
      "Loading images from folder: C:\\Users\\ganta\\Documents\\SignLang\\Data\\L\n",
      "Loading images from folder: C:\\Users\\ganta\\Documents\\SignLang\\Data\\M\n",
      "Loading images from folder: C:\\Users\\ganta\\Documents\\SignLang\\Data\\N\n",
      "Loading images from folder: C:\\Users\\ganta\\Documents\\SignLang\\Data\\O\n",
      "Loading images from folder: C:\\Users\\ganta\\Documents\\SignLang\\Data\\P\n",
      "Loading images from folder: C:\\Users\\ganta\\Documents\\SignLang\\Data\\Q\n",
      "Loading images from folder: C:\\Users\\ganta\\Documents\\SignLang\\Data\\R\n",
      "Loading images from folder: C:\\Users\\ganta\\Documents\\SignLang\\Data\\S\n",
      "Loading images from folder: C:\\Users\\ganta\\Documents\\SignLang\\Data\\T\n",
      "Loading images from folder: C:\\Users\\ganta\\Documents\\SignLang\\Data\\U\n",
      "Loading images from folder: C:\\Users\\ganta\\Documents\\SignLang\\Data\\V\n",
      "Loading images from folder: C:\\Users\\ganta\\Documents\\SignLang\\Data\\W\n",
      "Loading images from folder: C:\\Users\\ganta\\Documents\\SignLang\\Data\\X\n",
      "Loading images from folder: C:\\Users\\ganta\\Documents\\SignLang\\Data\\Y\n",
      "Loading images from folder: C:\\Users\\ganta\\Documents\\SignLang\\Data\\Z\n"
     ]
    }
   ],
   "source": [
    "def load_data(folder, target_size=(224, 224)):\n",
    "    data = []\n",
    "    labels = []\n",
    "    for label in os.listdir(folder):\n",
    "        label_folder = os.path.join(folder, label)\n",
    "        if os.path.isdir(label_folder):\n",
    "            print(f\"Loading images from folder: {label_folder}\")\n",
    "            for filename in os.listdir(label_folder):\n",
    "                if filename.endswith(\".jpg\"):\n",
    "                    img = cv2.imread(os.path.join(label_folder, filename))\n",
    "                    if img is not None:\n",
    "                        img = cv2.resize(img, target_size)\n",
    "                        data.append(img)\n",
    "                        labels.append(label)\n",
    "                    else:\n",
    "                        print(f\"Unable to load image: {os.path.join(label_folder, filename)}\")\n",
    "    return np.array(data), np.array(labels)\n",
    "\n",
    "# Load the collected data\n",
    "data, labels = load_data(r'C:\\Users\\ganta\\Documents\\SignLang\\Data')"
   ]
  },
  {
   "cell_type": "code",
   "execution_count": 3,
   "id": "ccb3dce0-bad2-416f-aa16-ea98fc6a46bc",
   "metadata": {},
   "outputs": [
    {
     "name": "stdout",
     "output_type": "stream",
     "text": [
      "Number of images loaded: 10400\n",
      "Labels: ['A' 'B' 'C' 'D' 'E' 'F' 'G' 'H' 'I' 'J' 'K' 'L' 'M' 'N' 'O' 'P' 'Q' 'R'\n",
      " 'S' 'T' 'U' 'V' 'W' 'X' 'Y' 'Z']\n"
     ]
    }
   ],
   "source": [
    "print(\"Number of images loaded:\", len(data))\n",
    "\n",
    "# Encode labels\n",
    "label_encoder = LabelEncoder()\n",
    "labels_encoded = label_encoder.fit_transform(labels)\n",
    "\n",
    "print(\"Labels:\", label_encoder.classes_)"
   ]
  },
  {
   "cell_type": "code",
   "execution_count": 4,
   "id": "8e0118bc-29c0-407f-8d78-1d61f522b676",
   "metadata": {},
   "outputs": [
    {
     "name": "stdout",
     "output_type": "stream",
     "text": [
      "Training set size: 6656\n",
      "Testing set size: 2080\n",
      "Validation set size: 1664\n"
     ]
    }
   ],
   "source": [
    "X_train, X_test, y_train, y_test = train_test_split(data, labels_encoded, test_size=0.2, random_state=42) \n",
    "X_train, X_val, y_train, y_val = train_test_split(X_train, y_train, test_size=0.2, random_state=42)\n",
    "\n",
    "print(\"Training set size:\", len(X_train))\n",
    "print(\"Testing set size:\", len(X_test)) \n",
    "print(\"Validation set size:\", len(X_val))"
   ]
  },
  {
   "cell_type": "code",
   "execution_count": 5,
   "id": "bc7e7dd0-1ef4-41bd-8294-734793347d93",
   "metadata": {},
   "outputs": [
    {
     "name": "stderr",
     "output_type": "stream",
     "text": [
      "C:\\Users\\ganta\\anaconda3\\Lib\\site-packages\\keras\\src\\layers\\convolutional\\base_conv.py:99: UserWarning: Do not pass an `input_shape`/`input_dim` argument to a layer. When using Sequential models, prefer using an `Input(shape)` object as the first layer in the model instead.\n",
      "  super().__init__(\n"
     ]
    }
   ],
   "source": [
    "# Build CNN model\n",
    "model = models.Sequential([ layers.Conv2D(32, (3, 3), activation='relu', input_shape=(224, 224, 3)), \n",
    "                           layers.MaxPooling2D((2, 2)), layers.Conv2D(64, (3, 3), activation='relu'),\n",
    "                           layers.MaxPooling2D((2, 2)), layers.Conv2D(128, (3, 3), activation='relu'), \n",
    "                           layers.MaxPooling2D((2, 2)), \n",
    "                           layers.Flatten(),\n",
    "                           layers.Dense(512, activation='relu'),\n",
    "                           layers.Dense(len(label_encoder.classes_), activation='softmax') ])\n",
    "# Compile the model\n",
    "model.compile(optimizer='adam',  loss='categorical_crossentropy', metrics=['accuracy'])"
   ]
  },
  {
   "cell_type": "code",
   "execution_count": 6,
   "id": "1ca5cb2d-b447-48b8-a4d4-9216a32ba19f",
   "metadata": {},
   "outputs": [],
   "source": [
    "datagen = ImageDataGenerator(\n",
    "    rotation_range=15,  \n",
    "    width_shift_range=0.1,  \n",
    "    height_shift_range=0.1,  \n",
    "    shear_range=0.1, \n",
    "    zoom_range=0.1,  \n",
    "    horizontal_flip=True,  \n",
    "    vertical_flip=True, \n",
    "    fill_mode='nearest' \n",
    ")"
   ]
  },
  {
   "cell_type": "code",
   "execution_count": 17,
   "id": "4948bffd-6ced-4495-87c0-051ca7e96846",
   "metadata": {},
   "outputs": [
    {
     "name": "stdout",
     "output_type": "stream",
     "text": [
      "Epoch 1/10\n",
      "\u001b[1m208/208\u001b[0m \u001b[32m━━━━━━━━━━━━━━━━━━━━\u001b[0m\u001b[37m\u001b[0m \u001b[1m159s\u001b[0m 754ms/step - accuracy: 0.6061 - loss: 1.2445 - val_accuracy: 0.8817 - val_loss: 0.2713\n",
      "Epoch 2/10\n"
     ]
    },
    {
     "name": "stderr",
     "output_type": "stream",
     "text": [
      "C:\\Users\\ganta\\anaconda3\\Lib\\contextlib.py:158: UserWarning: Your input ran out of data; interrupting training. Make sure that your dataset or generator can generate at least `steps_per_epoch * epochs` batches. You may need to use the `.repeat()` function when building your dataset.\n",
      "  self.gen.throw(typ, value, traceback)\n"
     ]
    },
    {
     "name": "stdout",
     "output_type": "stream",
     "text": [
      "\u001b[1m208/208\u001b[0m \u001b[32m━━━━━━━━━━━━━━━━━━━━\u001b[0m\u001b[37m\u001b[0m \u001b[1m8s\u001b[0m 41ms/step - accuracy: 0.0000e+00 - loss: 0.0000e+00 - val_accuracy: 0.8817 - val_loss: 0.2713\n",
      "Epoch 3/10\n",
      "\u001b[1m208/208\u001b[0m \u001b[32m━━━━━━━━━━━━━━━━━━━━\u001b[0m\u001b[37m\u001b[0m \u001b[1m159s\u001b[0m 754ms/step - accuracy: 0.8916 - loss: 0.3494 - val_accuracy: 0.9521 - val_loss: 0.0819\n",
      "Epoch 4/10\n",
      "\u001b[1m208/208\u001b[0m \u001b[32m━━━━━━━━━━━━━━━━━━━━\u001b[0m\u001b[37m\u001b[0m \u001b[1m8s\u001b[0m 37ms/step - accuracy: 0.0000e+00 - loss: 0.0000e+00 - val_accuracy: 0.9521 - val_loss: 0.0819\n",
      "Epoch 5/10\n",
      "\u001b[1m208/208\u001b[0m \u001b[32m━━━━━━━━━━━━━━━━━━━━\u001b[0m\u001b[37m\u001b[0m \u001b[1m142s\u001b[0m 674ms/step - accuracy: 0.9349 - loss: 0.1980 - val_accuracy: 0.9722 - val_loss: 0.0330\n",
      "Epoch 6/10\n",
      "\u001b[1m208/208\u001b[0m \u001b[32m━━━━━━━━━━━━━━━━━━━━\u001b[0m\u001b[37m\u001b[0m \u001b[1m7s\u001b[0m 35ms/step - accuracy: 0.0000e+00 - loss: 0.0000e+00 - val_accuracy: 0.9722 - val_loss: 0.0330\n",
      "Epoch 7/10\n",
      "\u001b[1m208/208\u001b[0m \u001b[32m━━━━━━━━━━━━━━━━━━━━\u001b[0m\u001b[37m\u001b[0m \u001b[1m149s\u001b[0m 712ms/step - accuracy: 0.9468 - loss: 0.1625 - val_accuracy: 0.9840 - val_loss: 0.0044\n",
      "Epoch 8/10\n",
      "\u001b[1m208/208\u001b[0m \u001b[32m━━━━━━━━━━━━━━━━━━━━\u001b[0m\u001b[37m\u001b[0m \u001b[1m8s\u001b[0m 41ms/step - accuracy: 0.0000e+00 - loss: 0.0000e+00 - val_accuracy: 0.9840 - val_loss: 0.0044\n",
      "Epoch 9/10\n",
      "\u001b[1m208/208\u001b[0m \u001b[32m━━━━━━━━━━━━━━━━━━━━\u001b[0m\u001b[37m\u001b[0m \u001b[1m151s\u001b[0m 717ms/step - accuracy: 0.9664 - loss: 0.1027 - val_accuracy: 0.9805 - val_loss: 0.0147\n",
      "Epoch 10/10\n",
      "\u001b[1m208/208\u001b[0m \u001b[32m━━━━━━━━━━━━━━━━━━━━\u001b[0m\u001b[37m\u001b[0m \u001b[1m7s\u001b[0m 36ms/step - accuracy: 0.0000e+00 - loss: 0.0000e+00 - val_accuracy: 0.9805 - val_loss: 0.0147\n"
     ]
    }
   ],
   "source": [
    "# Train the model\n",
    "epochs = 10\n",
    "history_cnn = model.fit(datagen.flow(X_train, tf.keras.utils.to_categorical(y_train, len(label_encoder.classes_)), batch_size=32),\n",
    "                  epochs=epochs, steps_per_epoch=len(X_train) // 32, validation_data=(X_val, tf.keras.utils.to_categorical(y_val, len(label_encoder.classes_))),\n",
    "                validation_steps=len(X_test) // 32)"
   ]
  },
  {
   "cell_type": "code",
   "execution_count": 18,
   "id": "2821dabc-a5fb-43f3-90ea-ac1469437df1",
   "metadata": {},
   "outputs": [
    {
     "name": "stdout",
     "output_type": "stream",
     "text": [
      "\u001b[1m65/65\u001b[0m \u001b[32m━━━━━━━━━━━━━━━━━━━━\u001b[0m\u001b[37m\u001b[0m \u001b[1m7s\u001b[0m 105ms/step - accuracy: 0.9973 - loss: 0.0123\n",
      "Test accuracy: 0.9966346025466919\n"
     ]
    }
   ],
   "source": [
    "# Evaluate the model on the test set\n",
    "test_loss, test_accuracy = model.evaluate(X_test, tf.keras.utils.to_categorical(y_test, len(label_encoder.classes_)))\n",
    "print(f'Test accuracy: {test_accuracy}')"
   ]
  },
  {
   "cell_type": "code",
   "execution_count": 21,
   "id": "de89b0c8-8467-4fae-b6b4-086b16b64216",
   "metadata": {},
   "outputs": [
    {
     "name": "stdout",
     "output_type": "stream",
     "text": [
      "validation accuracy: 0.9805\n"
     ]
    }
   ],
   "source": [
    "# Extract the validation accuracy\n",
    "validation_accuracy = history_cnn.history['val_accuracy'][-1]\n",
    "print(f'validation accuracy: {validation_accuracy:.4f}')"
   ]
  },
  {
   "cell_type": "code",
   "execution_count": 7,
   "id": "c4fcfbdd-520f-4571-9217-4c99cfd8f917",
   "metadata": {},
   "outputs": [],
   "source": [
    "from keras.layers import BatchNormalization, Dropout\n",
    "from keras.optimizers import Adam\n",
    "from keras.callbacks import EarlyStopping"
   ]
  },
  {
   "cell_type": "code",
   "execution_count": 8,
   "id": "7142cdc7-2b7c-4990-bc08-76cedf23dbb0",
   "metadata": {},
   "outputs": [],
   "source": [
    "num_classes = len(labels)\n",
    "y_train = to_categorical(y_train, num_classes)\n",
    "y_test = to_categorical(y_test, num_classes)\n",
    "y_val = to_categorical(y_val, num_classes)"
   ]
  },
  {
   "cell_type": "code",
   "execution_count": 9,
   "id": "85c865c8-7a54-498b-960f-771cad456032",
   "metadata": {},
   "outputs": [],
   "source": [
    "base_model = ResNet50(weights='imagenet', include_top=False, input_shape=(224, 224, 3))\n",
    "\n",
    "# Freeze the first 100 layers and fine-tune the rest\n",
    "for layer in base_model.layers[:100]:\n",
    "    layer.trainable = False\n",
    "for layer in base_model.layers[100:]:\n",
    "    layer.trainable = True\n",
    "\n",
    "# Add custom head to the model\n",
    "x = base_model.output\n",
    "x = GlobalAveragePooling2D()(x)\n",
    "x = BatchNormalization()(x)\n",
    "x = Dense(512, activation='relu')(x)\n",
    "x = Dropout(0.5)(x)\n",
    "\n",
    "# Output layer with softmax activation for classification\n",
    "predictions = Dense(num_classes, activation='softmax')(x)\n",
    "\n",
    "# Define the model\n",
    "model = Model(inputs=base_model.input, outputs=predictions)\n",
    "\n",
    "model.compile(optimizer=Adam(learning_rate=1e-4), loss='categorical_crossentropy', metrics=['accuracy'])"
   ]
  },
  {
   "cell_type": "code",
   "execution_count": 10,
   "id": "8ed834b0-1cff-4da1-a38f-cd4344e73189",
   "metadata": {},
   "outputs": [
    {
     "name": "stdout",
     "output_type": "stream",
     "text": [
      "Epoch 1/5\n"
     ]
    },
    {
     "name": "stderr",
     "output_type": "stream",
     "text": [
      "C:\\Users\\ganta\\anaconda3\\Lib\\site-packages\\keras\\src\\trainers\\data_adapters\\py_dataset_adapter.py:120: UserWarning: Your `PyDataset` class should call `super().__init__(**kwargs)` in its constructor. `**kwargs` can include `workers`, `use_multiprocessing`, `max_queue_size`. Do not pass these arguments to `fit()`, as they will be ignored.\n",
      "  self._warn_if_super_not_called()\n"
     ]
    },
    {
     "name": "stdout",
     "output_type": "stream",
     "text": [
      "\u001b[1m208/208\u001b[0m \u001b[32m━━━━━━━━━━━━━━━━━━━━\u001b[0m\u001b[37m\u001b[0m \u001b[1m559s\u001b[0m 3s/step - accuracy: 0.7331 - loss: 3.7952 - val_accuracy: 1.0000 - val_loss: 0.0213\n",
      "Epoch 2/5\n",
      "\u001b[1m208/208\u001b[0m \u001b[32m━━━━━━━━━━━━━━━━━━━━\u001b[0m\u001b[37m\u001b[0m \u001b[1m625s\u001b[0m 3s/step - accuracy: 0.9996 - loss: 0.0189 - val_accuracy: 1.0000 - val_loss: 9.6630e-04\n",
      "Epoch 3/5\n",
      "\u001b[1m208/208\u001b[0m \u001b[32m━━━━━━━━━━━━━━━━━━━━\u001b[0m\u001b[37m\u001b[0m \u001b[1m638s\u001b[0m 3s/step - accuracy: 1.0000 - loss: 0.0062 - val_accuracy: 1.0000 - val_loss: 3.3945e-04\n",
      "Epoch 4/5\n",
      "\u001b[1m208/208\u001b[0m \u001b[32m━━━━━━━━━━━━━━━━━━━━\u001b[0m\u001b[37m\u001b[0m \u001b[1m618s\u001b[0m 3s/step - accuracy: 1.0000 - loss: 0.0033 - val_accuracy: 1.0000 - val_loss: 2.8099e-04\n",
      "Epoch 5/5\n",
      "\u001b[1m208/208\u001b[0m \u001b[32m━━━━━━━━━━━━━━━━━━━━\u001b[0m\u001b[37m\u001b[0m \u001b[1m592s\u001b[0m 3s/step - accuracy: 0.9983 - loss: 0.0142 - val_accuracy: 1.0000 - val_loss: 3.3656e-04\n"
     ]
    }
   ],
   "source": [
    "# Train the model with data augmentation and early stopping\n",
    "history_restnet50 = model.fit(datagen.flow(X_train, y_train, batch_size=32),\n",
    "                              validation_data=(X_val, y_val),\n",
    "                              epochs=5,\n",
    "                              callbacks=[EarlyStopping(monitor='val_loss', patience=3)])"
   ]
  },
  {
   "cell_type": "code",
   "execution_count": 11,
   "id": "eb0acee5-9e67-4784-bc4e-6cf3a1f73824",
   "metadata": {},
   "outputs": [
    {
     "name": "stdout",
     "output_type": "stream",
     "text": [
      "65/65 - 65s - 998ms/step - accuracy: 1.0000 - loss: 3.8570e-04\n",
      "Test accuracy: 1.0\n",
      "52/52 - 54s - 1s/step - accuracy: 1.0000 - loss: 3.3656e-04\n",
      "validation accuracy: 1.0000\n"
     ]
    }
   ],
   "source": [
    "# Evaluate the model on the test set\n",
    "test_loss, test_accuracy = model.evaluate(X_test, y_test, verbose=2)\n",
    "print(f'Test accuracy: {test_accuracy}')\n",
    "\n",
    "# Evaluate the model on the validation set\n",
    "val_loss, val_accuracy = model.evaluate(X_val, y_val, verbose=2) \n",
    "\n",
    "print(f'validation accuracy: {val_accuracy:.4f}')"
   ]
  },
  {
   "cell_type": "code",
   "execution_count": 25,
   "id": "d1fc3af9-9b09-4c3d-8a6b-7a4c5f9b9b54",
   "metadata": {},
   "outputs": [],
   "source": [
    "from keras.applications.vgg16 import VGG16\n",
    "from keras.layers import Dense, Flatten"
   ]
  },
  {
   "cell_type": "code",
   "execution_count": 27,
   "id": "1b07d73b-692b-4a13-baa1-204eb551b888",
   "metadata": {},
   "outputs": [
    {
     "name": "stdout",
     "output_type": "stream",
     "text": [
      "Epoch 1/5\n",
      "\u001b[1m208/208\u001b[0m \u001b[32m━━━━━━━━━━━━━━━━━━━━\u001b[0m\u001b[37m\u001b[0m \u001b[1m984s\u001b[0m 5s/step - accuracy: 0.9464 - loss: 0.8515 - val_accuracy: 1.0000 - val_loss: 2.4648e-06\n",
      "Epoch 2/5\n",
      "\u001b[1m208/208\u001b[0m \u001b[32m━━━━━━━━━━━━━━━━━━━━\u001b[0m\u001b[37m\u001b[0m \u001b[1m997s\u001b[0m 5s/step - accuracy: 1.0000 - loss: 1.1145e-08 - val_accuracy: 1.0000 - val_loss: 1.5591e-06\n",
      "Epoch 3/5\n",
      "\u001b[1m208/208\u001b[0m \u001b[32m━━━━━━━━━━━━━━━━━━━━\u001b[0m\u001b[37m\u001b[0m \u001b[1m1004s\u001b[0m 5s/step - accuracy: 1.0000 - loss: 1.9186e-11 - val_accuracy: 1.0000 - val_loss: 7.6474e-07\n",
      "Epoch 4/5\n",
      "\u001b[1m208/208\u001b[0m \u001b[32m━━━━━━━━━━━━━━━━━━━━\u001b[0m\u001b[37m\u001b[0m \u001b[1m1001s\u001b[0m 5s/step - accuracy: 1.0000 - loss: 0.0000e+00 - val_accuracy: 1.0000 - val_loss: 7.1313e-07\n",
      "Epoch 5/5\n",
      "\u001b[1m208/208\u001b[0m \u001b[32m━━━━━━━━━━━━━━━━━━━━\u001b[0m\u001b[37m\u001b[0m \u001b[1m1071s\u001b[0m 5s/step - accuracy: 1.0000 - loss: 0.0000e+00 - val_accuracy: 1.0000 - val_loss: 7.0239e-07\n"
     ]
    }
   ],
   "source": [
    "base_model = VGG16(weights='imagenet', include_top=False, input_shape=(224, 224, 3))\n",
    "\n",
    "# Add custom layers for classification\n",
    "x = base_model.output\n",
    "x = Flatten()(x)\n",
    "x = Dense(512, activation='relu')(x)\n",
    "predictions = Dense(num_classes, activation='softmax')(x)\n",
    "\n",
    "# Create the model\n",
    "model = Model(inputs=base_model.input, outputs=predictions)\n",
    "\n",
    "# Freeze the base model layers\n",
    "for layer in base_model.layers:\n",
    "    layer.trainable = False\n",
    "\n",
    "# Compile the model\n",
    "model.compile(optimizer='adam', loss='categorical_crossentropy', metrics=['accuracy'])\n",
    "\n",
    "\n",
    "history_vgg = model.fit(X_train, y_train, validation_data=(X_val, y_val), epochs=5, batch_size=32)"
   ]
  },
  {
   "cell_type": "code",
   "execution_count": 28,
   "id": "780ae37f-6056-4b3d-b484-ed56882ac032",
   "metadata": {},
   "outputs": [
    {
     "name": "stdout",
     "output_type": "stream",
     "text": [
      "\u001b[1m65/65\u001b[0m \u001b[32m━━━━━━━━━━━━━━━━━━━━\u001b[0m\u001b[37m\u001b[0m \u001b[1m199s\u001b[0m 3s/step - accuracy: 1.0000 - loss: 4.7465e-06\n",
      "Test Accuracy: 100.00%\n",
      "\u001b[1m52/52\u001b[0m \u001b[32m━━━━━━━━━━━━━━━━━━━━\u001b[0m\u001b[37m\u001b[0m \u001b[1m204s\u001b[0m 4s/step - accuracy: 1.0000 - loss: 1.0449e-07\n",
      "Validation Accuracy: 100.00%\n"
     ]
    }
   ],
   "source": [
    "# Evaluate the model on the test set\n",
    "test_loss, test_accuracy = model.evaluate(X_test, y_test)\n",
    "print(\"Test Accuracy: {:.2f}%\".format(test_accuracy * 100))\n",
    "\n",
    "# Evaluate the model on the validation set\n",
    "val_loss, val_accuracy = model.evaluate(X_val, y_val)\n",
    "print(\"Validation Accuracy: {:.2f}%\".format(val_accuracy * 100))"
   ]
  },
  {
   "cell_type": "code",
   "execution_count": null,
   "id": "964ef526-95c9-42d8-be9a-4c2a2f1818ff",
   "metadata": {},
   "outputs": [],
   "source": []
  }
 ],
 "metadata": {
  "kernelspec": {
   "display_name": "Python 3 (ipykernel)",
   "language": "python",
   "name": "python3"
  },
  "language_info": {
   "codemirror_mode": {
    "name": "ipython",
    "version": 3
   },
   "file_extension": ".py",
   "mimetype": "text/x-python",
   "name": "python",
   "nbconvert_exporter": "python",
   "pygments_lexer": "ipython3",
   "version": "3.11.7"
  }
 },
 "nbformat": 4,
 "nbformat_minor": 5
}
